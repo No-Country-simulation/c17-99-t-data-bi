{
  "nbformat": 4,
  "nbformat_minor": 0,
  "metadata": {
    "colab": {
      "provenance": []
    },
    "kernelspec": {
      "name": "python3",
      "display_name": "Python 3"
    },
    "language_info": {
      "name": "python"
    }
  },
  "cells": [
    {
      "cell_type": "code",
      "source": [
        "from google.colab import drive\n",
        "import os\n",
        "drive.mount('/content/gdrive')\n",
        "%cd \"/content/gdrive/MyDrive/NoCountry/\""
      ],
      "metadata": {
        "colab": {
          "base_uri": "https://localhost:8080/"
        },
        "id": "DdwW_789-e5x",
        "outputId": "e3993411-d03f-42f2-9bc6-5757f1ec0bb0"
      },
      "execution_count": 4,
      "outputs": [
        {
          "output_type": "stream",
          "name": "stdout",
          "text": [
            "Mounted at /content/gdrive\n",
            "/content/gdrive/MyDrive/NoCountry\n"
          ]
        }
      ]
    },
    {
      "cell_type": "code",
      "source": [
        "df = pd.read_csv('/content/gdrive/MyDrive/NoCountry/hr_dashboard_data.csv')"
      ],
      "metadata": {
        "id": "smeRSRmW-nYG"
      },
      "execution_count": 6,
      "outputs": []
    },
    {
      "cell_type": "code",
      "source": [
        "!pip install pandas"
      ],
      "metadata": {
        "colab": {
          "base_uri": "https://localhost:8080/"
        },
        "id": "NJlrlQ4y_DL1",
        "outputId": "23459ff5-77de-4f52-acc9-a5616ef029c4"
      },
      "execution_count": 7,
      "outputs": [
        {
          "output_type": "stream",
          "name": "stdout",
          "text": [
            "Requirement already satisfied: pandas in /usr/local/lib/python3.10/dist-packages (2.0.3)\n",
            "Requirement already satisfied: python-dateutil>=2.8.2 in /usr/local/lib/python3.10/dist-packages (from pandas) (2.8.2)\n",
            "Requirement already satisfied: pytz>=2020.1 in /usr/local/lib/python3.10/dist-packages (from pandas) (2023.4)\n",
            "Requirement already satisfied: tzdata>=2022.1 in /usr/local/lib/python3.10/dist-packages (from pandas) (2024.1)\n",
            "Requirement already satisfied: numpy>=1.21.0 in /usr/local/lib/python3.10/dist-packages (from pandas) (1.25.2)\n",
            "Requirement already satisfied: six>=1.5 in /usr/local/lib/python3.10/dist-packages (from python-dateutil>=2.8.2->pandas) (1.16.0)\n"
          ]
        }
      ]
    },
    {
      "cell_type": "markdown",
      "source": [
        "# Tamaño y tipos de datos"
      ],
      "metadata": {
        "id": "Qz7GACzgALyF"
      }
    },
    {
      "cell_type": "code",
      "source": [
        "df.shape"
      ],
      "metadata": {
        "colab": {
          "base_uri": "https://localhost:8080/"
        },
        "id": "7rK-pvpQ_Kt2",
        "outputId": "558bcf5e-604b-49c8-a321-b0318b84a6db"
      },
      "execution_count": 8,
      "outputs": [
        {
          "output_type": "execute_result",
          "data": {
            "text/plain": [
              "(200, 11)"
            ]
          },
          "metadata": {},
          "execution_count": 8
        }
      ]
    },
    {
      "cell_type": "markdown",
      "source": [
        "200 filas y 11 columnas"
      ],
      "metadata": {
        "id": "YA4EpjUp_XIY"
      }
    },
    {
      "cell_type": "code",
      "source": [
        "df.size"
      ],
      "metadata": {
        "colab": {
          "base_uri": "https://localhost:8080/"
        },
        "id": "1nztS25u_PBI",
        "outputId": "558640d4-0d81-45f4-fa6c-b7aab7b7e105"
      },
      "execution_count": 9,
      "outputs": [
        {
          "output_type": "execute_result",
          "data": {
            "text/plain": [
              "2200"
            ]
          },
          "metadata": {},
          "execution_count": 9
        }
      ]
    },
    {
      "cell_type": "code",
      "source": [
        "df.info()"
      ],
      "metadata": {
        "colab": {
          "base_uri": "https://localhost:8080/"
        },
        "id": "qU1F-jWi_SES",
        "outputId": "665a8e00-3642-46db-d6dd-84994035647f"
      },
      "execution_count": 10,
      "outputs": [
        {
          "output_type": "stream",
          "name": "stdout",
          "text": [
            "<class 'pandas.core.frame.DataFrame'>\n",
            "RangeIndex: 200 entries, 0 to 199\n",
            "Data columns (total 11 columns):\n",
            " #   Column                 Non-Null Count  Dtype  \n",
            "---  ------                 --------------  -----  \n",
            " 0   Name                   200 non-null    object \n",
            " 1   Age                    200 non-null    int64  \n",
            " 2   Gender                 200 non-null    object \n",
            " 3   Projects Completed     200 non-null    int64  \n",
            " 4   Productivity (%)       200 non-null    int64  \n",
            " 5   Satisfaction Rate (%)  200 non-null    int64  \n",
            " 6   Feedback Score         200 non-null    float64\n",
            " 7   Department             200 non-null    object \n",
            " 8   Position               200 non-null    object \n",
            " 9   Joining Date           200 non-null    object \n",
            " 10  Salary                 200 non-null    int64  \n",
            "dtypes: float64(1), int64(5), object(5)\n",
            "memory usage: 17.3+ KB\n"
          ]
        }
      ]
    },
    {
      "cell_type": "markdown",
      "source": [
        "Variables numéricas: seis ('Age', 'Projects Completed', 'Productivity (%)', 'Satisfaction Rate (%)', 'Feedback Score' y 'Salary').\n",
        "\n",
        "Variables categóricas: cinco ('Name', 'Gender', 'Department', 'Position' y 'Joining Date')."
      ],
      "metadata": {
        "id": "qmJ_XFtQ_01m"
      }
    },
    {
      "cell_type": "markdown",
      "source": [
        "# Información básica"
      ],
      "metadata": {
        "id": "OHiz3b8NAVRY"
      }
    },
    {
      "cell_type": "code",
      "source": [
        "df.columns"
      ],
      "metadata": {
        "colab": {
          "base_uri": "https://localhost:8080/"
        },
        "id": "HCBda5DmAZRL",
        "outputId": "5286e846-3f16-4af1-b783-168565dab070"
      },
      "execution_count": 11,
      "outputs": [
        {
          "output_type": "execute_result",
          "data": {
            "text/plain": [
              "Index(['Name', 'Age', 'Gender', 'Projects Completed', 'Productivity (%)',\n",
              "       'Satisfaction Rate (%)', 'Feedback Score', 'Department', 'Position',\n",
              "       'Joining Date', 'Salary'],\n",
              "      dtype='object')"
            ]
          },
          "metadata": {},
          "execution_count": 11
        }
      ]
    },
    {
      "cell_type": "markdown",
      "source": [
        "Name: Nombre del empleado.\n",
        "\n",
        "Age: Edad del empleado.\n",
        "\n",
        "Gender: Género del empleado.\n",
        "\n",
        "Projects Completed: Número de proyectos completados por el empleado.\n",
        "\n",
        "Productivity (%): Productividad del empleado en porcentaje.\n",
        "\n",
        "Satisfaction Rate (%): Tasa de satisfacción del empleado en porcentaje.\n",
        "\n",
        "Feedback Score: Puntuación de retroalimentación del empleado.\n",
        "\n",
        "Department: Departamento al que pertenece el empleado.\n",
        "\n",
        "Position: Posición del empleado en la empresa.\n",
        "\n",
        "Joining Date: Fecha de inicio del empleado en la empresa.\n",
        "\n",
        "Salary: Salario del empleado."
      ],
      "metadata": {
        "id": "k28MUkVECm5Y"
      }
    },
    {
      "cell_type": "code",
      "source": [
        "df.head()"
      ],
      "metadata": {
        "colab": {
          "base_uri": "https://localhost:8080/",
          "height": 206
        },
        "id": "vyxnkPXVAfjS",
        "outputId": "256fdd13-6706-4661-ce6a-2c5aad449037"
      },
      "execution_count": 12,
      "outputs": [
        {
          "output_type": "execute_result",
          "data": {
            "text/plain": [
              "               Name  Age  Gender  Projects Completed  Productivity (%)  \\\n",
              "0   Douglas Lindsey   25    Male                  11                57   \n",
              "1  Anthony Roberson   59  Female                  19                55   \n",
              "2     Thomas Miller   30    Male                   8                87   \n",
              "3      Joshua Lewis   26  Female                   1                53   \n",
              "4  Stephanie Bailey   43    Male                  14                 3   \n",
              "\n",
              "   Satisfaction Rate (%)  Feedback Score Department   Position Joining Date  \\\n",
              "0                     25             4.7  Marketing    Analyst       Jan-20   \n",
              "1                     76             2.8         IT    Manager       Jan-99   \n",
              "2                     10             2.4         IT    Analyst       Jan-17   \n",
              "3                      4             1.4  Marketing     Intern       Jan-22   \n",
              "4                      9             4.5         IT  Team Lead       Jan-05   \n",
              "\n",
              "   Salary  \n",
              "0   63596  \n",
              "1  112540  \n",
              "2   66292  \n",
              "3   38303  \n",
              "4  101133  "
            ],
            "text/html": [
              "\n",
              "  <div id=\"df-dd3ca820-6b67-4a62-a148-6502546f0aca\" class=\"colab-df-container\">\n",
              "    <div>\n",
              "<style scoped>\n",
              "    .dataframe tbody tr th:only-of-type {\n",
              "        vertical-align: middle;\n",
              "    }\n",
              "\n",
              "    .dataframe tbody tr th {\n",
              "        vertical-align: top;\n",
              "    }\n",
              "\n",
              "    .dataframe thead th {\n",
              "        text-align: right;\n",
              "    }\n",
              "</style>\n",
              "<table border=\"1\" class=\"dataframe\">\n",
              "  <thead>\n",
              "    <tr style=\"text-align: right;\">\n",
              "      <th></th>\n",
              "      <th>Name</th>\n",
              "      <th>Age</th>\n",
              "      <th>Gender</th>\n",
              "      <th>Projects Completed</th>\n",
              "      <th>Productivity (%)</th>\n",
              "      <th>Satisfaction Rate (%)</th>\n",
              "      <th>Feedback Score</th>\n",
              "      <th>Department</th>\n",
              "      <th>Position</th>\n",
              "      <th>Joining Date</th>\n",
              "      <th>Salary</th>\n",
              "    </tr>\n",
              "  </thead>\n",
              "  <tbody>\n",
              "    <tr>\n",
              "      <th>0</th>\n",
              "      <td>Douglas Lindsey</td>\n",
              "      <td>25</td>\n",
              "      <td>Male</td>\n",
              "      <td>11</td>\n",
              "      <td>57</td>\n",
              "      <td>25</td>\n",
              "      <td>4.7</td>\n",
              "      <td>Marketing</td>\n",
              "      <td>Analyst</td>\n",
              "      <td>Jan-20</td>\n",
              "      <td>63596</td>\n",
              "    </tr>\n",
              "    <tr>\n",
              "      <th>1</th>\n",
              "      <td>Anthony Roberson</td>\n",
              "      <td>59</td>\n",
              "      <td>Female</td>\n",
              "      <td>19</td>\n",
              "      <td>55</td>\n",
              "      <td>76</td>\n",
              "      <td>2.8</td>\n",
              "      <td>IT</td>\n",
              "      <td>Manager</td>\n",
              "      <td>Jan-99</td>\n",
              "      <td>112540</td>\n",
              "    </tr>\n",
              "    <tr>\n",
              "      <th>2</th>\n",
              "      <td>Thomas Miller</td>\n",
              "      <td>30</td>\n",
              "      <td>Male</td>\n",
              "      <td>8</td>\n",
              "      <td>87</td>\n",
              "      <td>10</td>\n",
              "      <td>2.4</td>\n",
              "      <td>IT</td>\n",
              "      <td>Analyst</td>\n",
              "      <td>Jan-17</td>\n",
              "      <td>66292</td>\n",
              "    </tr>\n",
              "    <tr>\n",
              "      <th>3</th>\n",
              "      <td>Joshua Lewis</td>\n",
              "      <td>26</td>\n",
              "      <td>Female</td>\n",
              "      <td>1</td>\n",
              "      <td>53</td>\n",
              "      <td>4</td>\n",
              "      <td>1.4</td>\n",
              "      <td>Marketing</td>\n",
              "      <td>Intern</td>\n",
              "      <td>Jan-22</td>\n",
              "      <td>38303</td>\n",
              "    </tr>\n",
              "    <tr>\n",
              "      <th>4</th>\n",
              "      <td>Stephanie Bailey</td>\n",
              "      <td>43</td>\n",
              "      <td>Male</td>\n",
              "      <td>14</td>\n",
              "      <td>3</td>\n",
              "      <td>9</td>\n",
              "      <td>4.5</td>\n",
              "      <td>IT</td>\n",
              "      <td>Team Lead</td>\n",
              "      <td>Jan-05</td>\n",
              "      <td>101133</td>\n",
              "    </tr>\n",
              "  </tbody>\n",
              "</table>\n",
              "</div>\n",
              "    <div class=\"colab-df-buttons\">\n",
              "\n",
              "  <div class=\"colab-df-container\">\n",
              "    <button class=\"colab-df-convert\" onclick=\"convertToInteractive('df-dd3ca820-6b67-4a62-a148-6502546f0aca')\"\n",
              "            title=\"Convert this dataframe to an interactive table.\"\n",
              "            style=\"display:none;\">\n",
              "\n",
              "  <svg xmlns=\"http://www.w3.org/2000/svg\" height=\"24px\" viewBox=\"0 -960 960 960\">\n",
              "    <path d=\"M120-120v-720h720v720H120Zm60-500h600v-160H180v160Zm220 220h160v-160H400v160Zm0 220h160v-160H400v160ZM180-400h160v-160H180v160Zm440 0h160v-160H620v160ZM180-180h160v-160H180v160Zm440 0h160v-160H620v160Z\"/>\n",
              "  </svg>\n",
              "    </button>\n",
              "\n",
              "  <style>\n",
              "    .colab-df-container {\n",
              "      display:flex;\n",
              "      gap: 12px;\n",
              "    }\n",
              "\n",
              "    .colab-df-convert {\n",
              "      background-color: #E8F0FE;\n",
              "      border: none;\n",
              "      border-radius: 50%;\n",
              "      cursor: pointer;\n",
              "      display: none;\n",
              "      fill: #1967D2;\n",
              "      height: 32px;\n",
              "      padding: 0 0 0 0;\n",
              "      width: 32px;\n",
              "    }\n",
              "\n",
              "    .colab-df-convert:hover {\n",
              "      background-color: #E2EBFA;\n",
              "      box-shadow: 0px 1px 2px rgba(60, 64, 67, 0.3), 0px 1px 3px 1px rgba(60, 64, 67, 0.15);\n",
              "      fill: #174EA6;\n",
              "    }\n",
              "\n",
              "    .colab-df-buttons div {\n",
              "      margin-bottom: 4px;\n",
              "    }\n",
              "\n",
              "    [theme=dark] .colab-df-convert {\n",
              "      background-color: #3B4455;\n",
              "      fill: #D2E3FC;\n",
              "    }\n",
              "\n",
              "    [theme=dark] .colab-df-convert:hover {\n",
              "      background-color: #434B5C;\n",
              "      box-shadow: 0px 1px 3px 1px rgba(0, 0, 0, 0.15);\n",
              "      filter: drop-shadow(0px 1px 2px rgba(0, 0, 0, 0.3));\n",
              "      fill: #FFFFFF;\n",
              "    }\n",
              "  </style>\n",
              "\n",
              "    <script>\n",
              "      const buttonEl =\n",
              "        document.querySelector('#df-dd3ca820-6b67-4a62-a148-6502546f0aca button.colab-df-convert');\n",
              "      buttonEl.style.display =\n",
              "        google.colab.kernel.accessAllowed ? 'block' : 'none';\n",
              "\n",
              "      async function convertToInteractive(key) {\n",
              "        const element = document.querySelector('#df-dd3ca820-6b67-4a62-a148-6502546f0aca');\n",
              "        const dataTable =\n",
              "          await google.colab.kernel.invokeFunction('convertToInteractive',\n",
              "                                                    [key], {});\n",
              "        if (!dataTable) return;\n",
              "\n",
              "        const docLinkHtml = 'Like what you see? Visit the ' +\n",
              "          '<a target=\"_blank\" href=https://colab.research.google.com/notebooks/data_table.ipynb>data table notebook</a>'\n",
              "          + ' to learn more about interactive tables.';\n",
              "        element.innerHTML = '';\n",
              "        dataTable['output_type'] = 'display_data';\n",
              "        await google.colab.output.renderOutput(dataTable, element);\n",
              "        const docLink = document.createElement('div');\n",
              "        docLink.innerHTML = docLinkHtml;\n",
              "        element.appendChild(docLink);\n",
              "      }\n",
              "    </script>\n",
              "  </div>\n",
              "\n",
              "\n",
              "<div id=\"df-154bb02c-dc75-4a2d-a168-573d9b8c99a5\">\n",
              "  <button class=\"colab-df-quickchart\" onclick=\"quickchart('df-154bb02c-dc75-4a2d-a168-573d9b8c99a5')\"\n",
              "            title=\"Suggest charts\"\n",
              "            style=\"display:none;\">\n",
              "\n",
              "<svg xmlns=\"http://www.w3.org/2000/svg\" height=\"24px\"viewBox=\"0 0 24 24\"\n",
              "     width=\"24px\">\n",
              "    <g>\n",
              "        <path d=\"M19 3H5c-1.1 0-2 .9-2 2v14c0 1.1.9 2 2 2h14c1.1 0 2-.9 2-2V5c0-1.1-.9-2-2-2zM9 17H7v-7h2v7zm4 0h-2V7h2v10zm4 0h-2v-4h2v4z\"/>\n",
              "    </g>\n",
              "</svg>\n",
              "  </button>\n",
              "\n",
              "<style>\n",
              "  .colab-df-quickchart {\n",
              "      --bg-color: #E8F0FE;\n",
              "      --fill-color: #1967D2;\n",
              "      --hover-bg-color: #E2EBFA;\n",
              "      --hover-fill-color: #174EA6;\n",
              "      --disabled-fill-color: #AAA;\n",
              "      --disabled-bg-color: #DDD;\n",
              "  }\n",
              "\n",
              "  [theme=dark] .colab-df-quickchart {\n",
              "      --bg-color: #3B4455;\n",
              "      --fill-color: #D2E3FC;\n",
              "      --hover-bg-color: #434B5C;\n",
              "      --hover-fill-color: #FFFFFF;\n",
              "      --disabled-bg-color: #3B4455;\n",
              "      --disabled-fill-color: #666;\n",
              "  }\n",
              "\n",
              "  .colab-df-quickchart {\n",
              "    background-color: var(--bg-color);\n",
              "    border: none;\n",
              "    border-radius: 50%;\n",
              "    cursor: pointer;\n",
              "    display: none;\n",
              "    fill: var(--fill-color);\n",
              "    height: 32px;\n",
              "    padding: 0;\n",
              "    width: 32px;\n",
              "  }\n",
              "\n",
              "  .colab-df-quickchart:hover {\n",
              "    background-color: var(--hover-bg-color);\n",
              "    box-shadow: 0 1px 2px rgba(60, 64, 67, 0.3), 0 1px 3px 1px rgba(60, 64, 67, 0.15);\n",
              "    fill: var(--button-hover-fill-color);\n",
              "  }\n",
              "\n",
              "  .colab-df-quickchart-complete:disabled,\n",
              "  .colab-df-quickchart-complete:disabled:hover {\n",
              "    background-color: var(--disabled-bg-color);\n",
              "    fill: var(--disabled-fill-color);\n",
              "    box-shadow: none;\n",
              "  }\n",
              "\n",
              "  .colab-df-spinner {\n",
              "    border: 2px solid var(--fill-color);\n",
              "    border-color: transparent;\n",
              "    border-bottom-color: var(--fill-color);\n",
              "    animation:\n",
              "      spin 1s steps(1) infinite;\n",
              "  }\n",
              "\n",
              "  @keyframes spin {\n",
              "    0% {\n",
              "      border-color: transparent;\n",
              "      border-bottom-color: var(--fill-color);\n",
              "      border-left-color: var(--fill-color);\n",
              "    }\n",
              "    20% {\n",
              "      border-color: transparent;\n",
              "      border-left-color: var(--fill-color);\n",
              "      border-top-color: var(--fill-color);\n",
              "    }\n",
              "    30% {\n",
              "      border-color: transparent;\n",
              "      border-left-color: var(--fill-color);\n",
              "      border-top-color: var(--fill-color);\n",
              "      border-right-color: var(--fill-color);\n",
              "    }\n",
              "    40% {\n",
              "      border-color: transparent;\n",
              "      border-right-color: var(--fill-color);\n",
              "      border-top-color: var(--fill-color);\n",
              "    }\n",
              "    60% {\n",
              "      border-color: transparent;\n",
              "      border-right-color: var(--fill-color);\n",
              "    }\n",
              "    80% {\n",
              "      border-color: transparent;\n",
              "      border-right-color: var(--fill-color);\n",
              "      border-bottom-color: var(--fill-color);\n",
              "    }\n",
              "    90% {\n",
              "      border-color: transparent;\n",
              "      border-bottom-color: var(--fill-color);\n",
              "    }\n",
              "  }\n",
              "</style>\n",
              "\n",
              "  <script>\n",
              "    async function quickchart(key) {\n",
              "      const quickchartButtonEl =\n",
              "        document.querySelector('#' + key + ' button');\n",
              "      quickchartButtonEl.disabled = true;  // To prevent multiple clicks.\n",
              "      quickchartButtonEl.classList.add('colab-df-spinner');\n",
              "      try {\n",
              "        const charts = await google.colab.kernel.invokeFunction(\n",
              "            'suggestCharts', [key], {});\n",
              "      } catch (error) {\n",
              "        console.error('Error during call to suggestCharts:', error);\n",
              "      }\n",
              "      quickchartButtonEl.classList.remove('colab-df-spinner');\n",
              "      quickchartButtonEl.classList.add('colab-df-quickchart-complete');\n",
              "    }\n",
              "    (() => {\n",
              "      let quickchartButtonEl =\n",
              "        document.querySelector('#df-154bb02c-dc75-4a2d-a168-573d9b8c99a5 button');\n",
              "      quickchartButtonEl.style.display =\n",
              "        google.colab.kernel.accessAllowed ? 'block' : 'none';\n",
              "    })();\n",
              "  </script>\n",
              "</div>\n",
              "\n",
              "    </div>\n",
              "  </div>\n"
            ],
            "application/vnd.google.colaboratory.intrinsic+json": {
              "type": "dataframe",
              "variable_name": "df",
              "summary": "{\n  \"name\": \"df\",\n  \"rows\": 200,\n  \"fields\": [\n    {\n      \"column\": \"Name\",\n      \"properties\": {\n        \"dtype\": \"string\",\n        \"num_unique_values\": 200,\n        \"samples\": [\n          \"Patricia Campos\",\n          \"Melissa Galvan\",\n          \"Michelle Perez\"\n        ],\n        \"semantic_type\": \"\",\n        \"description\": \"\"\n      }\n    },\n    {\n      \"column\": \"Age\",\n      \"properties\": {\n        \"dtype\": \"number\",\n        \"std\": 9,\n        \"min\": 22,\n        \"max\": 60,\n        \"num_unique_values\": 35,\n        \"samples\": [\n          22,\n          40,\n          38\n        ],\n        \"semantic_type\": \"\",\n        \"description\": \"\"\n      }\n    },\n    {\n      \"column\": \"Gender\",\n      \"properties\": {\n        \"dtype\": \"category\",\n        \"num_unique_values\": 2,\n        \"samples\": [\n          \"Female\",\n          \"Male\"\n        ],\n        \"semantic_type\": \"\",\n        \"description\": \"\"\n      }\n    },\n    {\n      \"column\": \"Projects Completed\",\n      \"properties\": {\n        \"dtype\": \"number\",\n        \"std\": 6,\n        \"min\": 0,\n        \"max\": 25,\n        \"num_unique_values\": 26,\n        \"samples\": [\n          7,\n          22\n        ],\n        \"semantic_type\": \"\",\n        \"description\": \"\"\n      }\n    },\n    {\n      \"column\": \"Productivity (%)\",\n      \"properties\": {\n        \"dtype\": \"number\",\n        \"std\": 28,\n        \"min\": 0,\n        \"max\": 98,\n        \"num_unique_values\": 82,\n        \"samples\": [\n          23,\n          57\n        ],\n        \"semantic_type\": \"\",\n        \"description\": \"\"\n      }\n    },\n    {\n      \"column\": \"Satisfaction Rate (%)\",\n      \"properties\": {\n        \"dtype\": \"number\",\n        \"std\": 28,\n        \"min\": 0,\n        \"max\": 100,\n        \"num_unique_values\": 94,\n        \"samples\": [\n          85,\n          26\n        ],\n        \"semantic_type\": \"\",\n        \"description\": \"\"\n      }\n    },\n    {\n      \"column\": \"Feedback Score\",\n      \"properties\": {\n        \"dtype\": \"number\",\n        \"std\": 1.1232629246930343,\n        \"min\": 1.0,\n        \"max\": 4.9,\n        \"num_unique_values\": 40,\n        \"samples\": [\n          4.9,\n          2.0\n        ],\n        \"semantic_type\": \"\",\n        \"description\": \"\"\n      }\n    },\n    {\n      \"column\": \"Department\",\n      \"properties\": {\n        \"dtype\": \"category\",\n        \"num_unique_values\": 5,\n        \"samples\": [\n          \"IT\",\n          \"Finance\"\n        ],\n        \"semantic_type\": \"\",\n        \"description\": \"\"\n      }\n    },\n    {\n      \"column\": \"Position\",\n      \"properties\": {\n        \"dtype\": \"category\",\n        \"num_unique_values\": 6,\n        \"samples\": [\n          \"Analyst\",\n          \"Manager\"\n        ],\n        \"semantic_type\": \"\",\n        \"description\": \"\"\n      }\n    },\n    {\n      \"column\": \"Joining Date\",\n      \"properties\": {\n        \"dtype\": \"category\",\n        \"num_unique_values\": 25,\n        \"samples\": [\n          \"Jan-04\",\n          \"Jan-14\"\n        ],\n        \"semantic_type\": \"\",\n        \"description\": \"\"\n      }\n    },\n    {\n      \"column\": \"Salary\",\n      \"properties\": {\n        \"dtype\": \"number\",\n        \"std\": 27082,\n        \"min\": 30231,\n        \"max\": 119895,\n        \"num_unique_values\": 198,\n        \"samples\": [\n          47255,\n          110104\n        ],\n        \"semantic_type\": \"\",\n        \"description\": \"\"\n      }\n    }\n  ]\n}"
            }
          },
          "metadata": {},
          "execution_count": 12
        }
      ]
    },
    {
      "cell_type": "code",
      "source": [
        "df"
      ],
      "metadata": {
        "colab": {
          "base_uri": "https://localhost:8080/",
          "height": 423
        },
        "id": "HsYSZmNJBO-Q",
        "outputId": "d9c42036-f2eb-4e10-b1f1-9f7527da9ad5"
      },
      "execution_count": 13,
      "outputs": [
        {
          "output_type": "execute_result",
          "data": {
            "text/plain": [
              "                  Name  Age  Gender  Projects Completed  Productivity (%)  \\\n",
              "0      Douglas Lindsey   25    Male                  11                57   \n",
              "1     Anthony Roberson   59  Female                  19                55   \n",
              "2        Thomas Miller   30    Male                   8                87   \n",
              "3         Joshua Lewis   26  Female                   1                53   \n",
              "4     Stephanie Bailey   43    Male                  14                 3   \n",
              "..                 ...  ...     ...                 ...               ...   \n",
              "195   Stephanie Fisher   29  Female                   9                32   \n",
              "196      Jeremy Miller   26    Male                   7                45   \n",
              "197      Daniel Pierce   22    Male                   3                36   \n",
              "198  Michael Hernandez   36  Female                  23                96   \n",
              "199   Victor Gutierrez   43    Male                  10                86   \n",
              "\n",
              "     Satisfaction Rate (%)  Feedback Score Department          Position  \\\n",
              "0                       25             4.7  Marketing           Analyst   \n",
              "1                       76             2.8         IT           Manager   \n",
              "2                       10             2.4         IT           Analyst   \n",
              "3                        4             1.4  Marketing            Intern   \n",
              "4                        9             4.5         IT         Team Lead   \n",
              "..                     ...             ...        ...               ...   \n",
              "195                     87             3.5         HR  Junior Developer   \n",
              "196                     28             2.8         IT  Junior Developer   \n",
              "197                     77             1.6    Finance            Intern   \n",
              "198                     50             3.4  Marketing           Manager   \n",
              "199                     71             2.0         IT         Team Lead   \n",
              "\n",
              "    Joining Date  Salary  \n",
              "0         Jan-20   63596  \n",
              "1         Jan-99  112540  \n",
              "2         Jan-17   66292  \n",
              "3         Jan-22   38303  \n",
              "4         Jan-05  101133  \n",
              "..           ...     ...  \n",
              "195       Jan-19   50051  \n",
              "196       Jan-21   46612  \n",
              "197       Jan-21   32992  \n",
              "198       Jan-05  104216  \n",
              "199       Jan-14  104341  \n",
              "\n",
              "[200 rows x 11 columns]"
            ],
            "text/html": [
              "\n",
              "  <div id=\"df-26d464c9-3f15-4e0f-a816-6599bd18454e\" class=\"colab-df-container\">\n",
              "    <div>\n",
              "<style scoped>\n",
              "    .dataframe tbody tr th:only-of-type {\n",
              "        vertical-align: middle;\n",
              "    }\n",
              "\n",
              "    .dataframe tbody tr th {\n",
              "        vertical-align: top;\n",
              "    }\n",
              "\n",
              "    .dataframe thead th {\n",
              "        text-align: right;\n",
              "    }\n",
              "</style>\n",
              "<table border=\"1\" class=\"dataframe\">\n",
              "  <thead>\n",
              "    <tr style=\"text-align: right;\">\n",
              "      <th></th>\n",
              "      <th>Name</th>\n",
              "      <th>Age</th>\n",
              "      <th>Gender</th>\n",
              "      <th>Projects Completed</th>\n",
              "      <th>Productivity (%)</th>\n",
              "      <th>Satisfaction Rate (%)</th>\n",
              "      <th>Feedback Score</th>\n",
              "      <th>Department</th>\n",
              "      <th>Position</th>\n",
              "      <th>Joining Date</th>\n",
              "      <th>Salary</th>\n",
              "    </tr>\n",
              "  </thead>\n",
              "  <tbody>\n",
              "    <tr>\n",
              "      <th>0</th>\n",
              "      <td>Douglas Lindsey</td>\n",
              "      <td>25</td>\n",
              "      <td>Male</td>\n",
              "      <td>11</td>\n",
              "      <td>57</td>\n",
              "      <td>25</td>\n",
              "      <td>4.7</td>\n",
              "      <td>Marketing</td>\n",
              "      <td>Analyst</td>\n",
              "      <td>Jan-20</td>\n",
              "      <td>63596</td>\n",
              "    </tr>\n",
              "    <tr>\n",
              "      <th>1</th>\n",
              "      <td>Anthony Roberson</td>\n",
              "      <td>59</td>\n",
              "      <td>Female</td>\n",
              "      <td>19</td>\n",
              "      <td>55</td>\n",
              "      <td>76</td>\n",
              "      <td>2.8</td>\n",
              "      <td>IT</td>\n",
              "      <td>Manager</td>\n",
              "      <td>Jan-99</td>\n",
              "      <td>112540</td>\n",
              "    </tr>\n",
              "    <tr>\n",
              "      <th>2</th>\n",
              "      <td>Thomas Miller</td>\n",
              "      <td>30</td>\n",
              "      <td>Male</td>\n",
              "      <td>8</td>\n",
              "      <td>87</td>\n",
              "      <td>10</td>\n",
              "      <td>2.4</td>\n",
              "      <td>IT</td>\n",
              "      <td>Analyst</td>\n",
              "      <td>Jan-17</td>\n",
              "      <td>66292</td>\n",
              "    </tr>\n",
              "    <tr>\n",
              "      <th>3</th>\n",
              "      <td>Joshua Lewis</td>\n",
              "      <td>26</td>\n",
              "      <td>Female</td>\n",
              "      <td>1</td>\n",
              "      <td>53</td>\n",
              "      <td>4</td>\n",
              "      <td>1.4</td>\n",
              "      <td>Marketing</td>\n",
              "      <td>Intern</td>\n",
              "      <td>Jan-22</td>\n",
              "      <td>38303</td>\n",
              "    </tr>\n",
              "    <tr>\n",
              "      <th>4</th>\n",
              "      <td>Stephanie Bailey</td>\n",
              "      <td>43</td>\n",
              "      <td>Male</td>\n",
              "      <td>14</td>\n",
              "      <td>3</td>\n",
              "      <td>9</td>\n",
              "      <td>4.5</td>\n",
              "      <td>IT</td>\n",
              "      <td>Team Lead</td>\n",
              "      <td>Jan-05</td>\n",
              "      <td>101133</td>\n",
              "    </tr>\n",
              "    <tr>\n",
              "      <th>...</th>\n",
              "      <td>...</td>\n",
              "      <td>...</td>\n",
              "      <td>...</td>\n",
              "      <td>...</td>\n",
              "      <td>...</td>\n",
              "      <td>...</td>\n",
              "      <td>...</td>\n",
              "      <td>...</td>\n",
              "      <td>...</td>\n",
              "      <td>...</td>\n",
              "      <td>...</td>\n",
              "    </tr>\n",
              "    <tr>\n",
              "      <th>195</th>\n",
              "      <td>Stephanie Fisher</td>\n",
              "      <td>29</td>\n",
              "      <td>Female</td>\n",
              "      <td>9</td>\n",
              "      <td>32</td>\n",
              "      <td>87</td>\n",
              "      <td>3.5</td>\n",
              "      <td>HR</td>\n",
              "      <td>Junior Developer</td>\n",
              "      <td>Jan-19</td>\n",
              "      <td>50051</td>\n",
              "    </tr>\n",
              "    <tr>\n",
              "      <th>196</th>\n",
              "      <td>Jeremy Miller</td>\n",
              "      <td>26</td>\n",
              "      <td>Male</td>\n",
              "      <td>7</td>\n",
              "      <td>45</td>\n",
              "      <td>28</td>\n",
              "      <td>2.8</td>\n",
              "      <td>IT</td>\n",
              "      <td>Junior Developer</td>\n",
              "      <td>Jan-21</td>\n",
              "      <td>46612</td>\n",
              "    </tr>\n",
              "    <tr>\n",
              "      <th>197</th>\n",
              "      <td>Daniel Pierce</td>\n",
              "      <td>22</td>\n",
              "      <td>Male</td>\n",
              "      <td>3</td>\n",
              "      <td>36</td>\n",
              "      <td>77</td>\n",
              "      <td>1.6</td>\n",
              "      <td>Finance</td>\n",
              "      <td>Intern</td>\n",
              "      <td>Jan-21</td>\n",
              "      <td>32992</td>\n",
              "    </tr>\n",
              "    <tr>\n",
              "      <th>198</th>\n",
              "      <td>Michael Hernandez</td>\n",
              "      <td>36</td>\n",
              "      <td>Female</td>\n",
              "      <td>23</td>\n",
              "      <td>96</td>\n",
              "      <td>50</td>\n",
              "      <td>3.4</td>\n",
              "      <td>Marketing</td>\n",
              "      <td>Manager</td>\n",
              "      <td>Jan-05</td>\n",
              "      <td>104216</td>\n",
              "    </tr>\n",
              "    <tr>\n",
              "      <th>199</th>\n",
              "      <td>Victor Gutierrez</td>\n",
              "      <td>43</td>\n",
              "      <td>Male</td>\n",
              "      <td>10</td>\n",
              "      <td>86</td>\n",
              "      <td>71</td>\n",
              "      <td>2.0</td>\n",
              "      <td>IT</td>\n",
              "      <td>Team Lead</td>\n",
              "      <td>Jan-14</td>\n",
              "      <td>104341</td>\n",
              "    </tr>\n",
              "  </tbody>\n",
              "</table>\n",
              "<p>200 rows × 11 columns</p>\n",
              "</div>\n",
              "    <div class=\"colab-df-buttons\">\n",
              "\n",
              "  <div class=\"colab-df-container\">\n",
              "    <button class=\"colab-df-convert\" onclick=\"convertToInteractive('df-26d464c9-3f15-4e0f-a816-6599bd18454e')\"\n",
              "            title=\"Convert this dataframe to an interactive table.\"\n",
              "            style=\"display:none;\">\n",
              "\n",
              "  <svg xmlns=\"http://www.w3.org/2000/svg\" height=\"24px\" viewBox=\"0 -960 960 960\">\n",
              "    <path d=\"M120-120v-720h720v720H120Zm60-500h600v-160H180v160Zm220 220h160v-160H400v160Zm0 220h160v-160H400v160ZM180-400h160v-160H180v160Zm440 0h160v-160H620v160ZM180-180h160v-160H180v160Zm440 0h160v-160H620v160Z\"/>\n",
              "  </svg>\n",
              "    </button>\n",
              "\n",
              "  <style>\n",
              "    .colab-df-container {\n",
              "      display:flex;\n",
              "      gap: 12px;\n",
              "    }\n",
              "\n",
              "    .colab-df-convert {\n",
              "      background-color: #E8F0FE;\n",
              "      border: none;\n",
              "      border-radius: 50%;\n",
              "      cursor: pointer;\n",
              "      display: none;\n",
              "      fill: #1967D2;\n",
              "      height: 32px;\n",
              "      padding: 0 0 0 0;\n",
              "      width: 32px;\n",
              "    }\n",
              "\n",
              "    .colab-df-convert:hover {\n",
              "      background-color: #E2EBFA;\n",
              "      box-shadow: 0px 1px 2px rgba(60, 64, 67, 0.3), 0px 1px 3px 1px rgba(60, 64, 67, 0.15);\n",
              "      fill: #174EA6;\n",
              "    }\n",
              "\n",
              "    .colab-df-buttons div {\n",
              "      margin-bottom: 4px;\n",
              "    }\n",
              "\n",
              "    [theme=dark] .colab-df-convert {\n",
              "      background-color: #3B4455;\n",
              "      fill: #D2E3FC;\n",
              "    }\n",
              "\n",
              "    [theme=dark] .colab-df-convert:hover {\n",
              "      background-color: #434B5C;\n",
              "      box-shadow: 0px 1px 3px 1px rgba(0, 0, 0, 0.15);\n",
              "      filter: drop-shadow(0px 1px 2px rgba(0, 0, 0, 0.3));\n",
              "      fill: #FFFFFF;\n",
              "    }\n",
              "  </style>\n",
              "\n",
              "    <script>\n",
              "      const buttonEl =\n",
              "        document.querySelector('#df-26d464c9-3f15-4e0f-a816-6599bd18454e button.colab-df-convert');\n",
              "      buttonEl.style.display =\n",
              "        google.colab.kernel.accessAllowed ? 'block' : 'none';\n",
              "\n",
              "      async function convertToInteractive(key) {\n",
              "        const element = document.querySelector('#df-26d464c9-3f15-4e0f-a816-6599bd18454e');\n",
              "        const dataTable =\n",
              "          await google.colab.kernel.invokeFunction('convertToInteractive',\n",
              "                                                    [key], {});\n",
              "        if (!dataTable) return;\n",
              "\n",
              "        const docLinkHtml = 'Like what you see? Visit the ' +\n",
              "          '<a target=\"_blank\" href=https://colab.research.google.com/notebooks/data_table.ipynb>data table notebook</a>'\n",
              "          + ' to learn more about interactive tables.';\n",
              "        element.innerHTML = '';\n",
              "        dataTable['output_type'] = 'display_data';\n",
              "        await google.colab.output.renderOutput(dataTable, element);\n",
              "        const docLink = document.createElement('div');\n",
              "        docLink.innerHTML = docLinkHtml;\n",
              "        element.appendChild(docLink);\n",
              "      }\n",
              "    </script>\n",
              "  </div>\n",
              "\n",
              "\n",
              "<div id=\"df-1d834bcb-1e83-47f4-a1ce-79866e2207a6\">\n",
              "  <button class=\"colab-df-quickchart\" onclick=\"quickchart('df-1d834bcb-1e83-47f4-a1ce-79866e2207a6')\"\n",
              "            title=\"Suggest charts\"\n",
              "            style=\"display:none;\">\n",
              "\n",
              "<svg xmlns=\"http://www.w3.org/2000/svg\" height=\"24px\"viewBox=\"0 0 24 24\"\n",
              "     width=\"24px\">\n",
              "    <g>\n",
              "        <path d=\"M19 3H5c-1.1 0-2 .9-2 2v14c0 1.1.9 2 2 2h14c1.1 0 2-.9 2-2V5c0-1.1-.9-2-2-2zM9 17H7v-7h2v7zm4 0h-2V7h2v10zm4 0h-2v-4h2v4z\"/>\n",
              "    </g>\n",
              "</svg>\n",
              "  </button>\n",
              "\n",
              "<style>\n",
              "  .colab-df-quickchart {\n",
              "      --bg-color: #E8F0FE;\n",
              "      --fill-color: #1967D2;\n",
              "      --hover-bg-color: #E2EBFA;\n",
              "      --hover-fill-color: #174EA6;\n",
              "      --disabled-fill-color: #AAA;\n",
              "      --disabled-bg-color: #DDD;\n",
              "  }\n",
              "\n",
              "  [theme=dark] .colab-df-quickchart {\n",
              "      --bg-color: #3B4455;\n",
              "      --fill-color: #D2E3FC;\n",
              "      --hover-bg-color: #434B5C;\n",
              "      --hover-fill-color: #FFFFFF;\n",
              "      --disabled-bg-color: #3B4455;\n",
              "      --disabled-fill-color: #666;\n",
              "  }\n",
              "\n",
              "  .colab-df-quickchart {\n",
              "    background-color: var(--bg-color);\n",
              "    border: none;\n",
              "    border-radius: 50%;\n",
              "    cursor: pointer;\n",
              "    display: none;\n",
              "    fill: var(--fill-color);\n",
              "    height: 32px;\n",
              "    padding: 0;\n",
              "    width: 32px;\n",
              "  }\n",
              "\n",
              "  .colab-df-quickchart:hover {\n",
              "    background-color: var(--hover-bg-color);\n",
              "    box-shadow: 0 1px 2px rgba(60, 64, 67, 0.3), 0 1px 3px 1px rgba(60, 64, 67, 0.15);\n",
              "    fill: var(--button-hover-fill-color);\n",
              "  }\n",
              "\n",
              "  .colab-df-quickchart-complete:disabled,\n",
              "  .colab-df-quickchart-complete:disabled:hover {\n",
              "    background-color: var(--disabled-bg-color);\n",
              "    fill: var(--disabled-fill-color);\n",
              "    box-shadow: none;\n",
              "  }\n",
              "\n",
              "  .colab-df-spinner {\n",
              "    border: 2px solid var(--fill-color);\n",
              "    border-color: transparent;\n",
              "    border-bottom-color: var(--fill-color);\n",
              "    animation:\n",
              "      spin 1s steps(1) infinite;\n",
              "  }\n",
              "\n",
              "  @keyframes spin {\n",
              "    0% {\n",
              "      border-color: transparent;\n",
              "      border-bottom-color: var(--fill-color);\n",
              "      border-left-color: var(--fill-color);\n",
              "    }\n",
              "    20% {\n",
              "      border-color: transparent;\n",
              "      border-left-color: var(--fill-color);\n",
              "      border-top-color: var(--fill-color);\n",
              "    }\n",
              "    30% {\n",
              "      border-color: transparent;\n",
              "      border-left-color: var(--fill-color);\n",
              "      border-top-color: var(--fill-color);\n",
              "      border-right-color: var(--fill-color);\n",
              "    }\n",
              "    40% {\n",
              "      border-color: transparent;\n",
              "      border-right-color: var(--fill-color);\n",
              "      border-top-color: var(--fill-color);\n",
              "    }\n",
              "    60% {\n",
              "      border-color: transparent;\n",
              "      border-right-color: var(--fill-color);\n",
              "    }\n",
              "    80% {\n",
              "      border-color: transparent;\n",
              "      border-right-color: var(--fill-color);\n",
              "      border-bottom-color: var(--fill-color);\n",
              "    }\n",
              "    90% {\n",
              "      border-color: transparent;\n",
              "      border-bottom-color: var(--fill-color);\n",
              "    }\n",
              "  }\n",
              "</style>\n",
              "\n",
              "  <script>\n",
              "    async function quickchart(key) {\n",
              "      const quickchartButtonEl =\n",
              "        document.querySelector('#' + key + ' button');\n",
              "      quickchartButtonEl.disabled = true;  // To prevent multiple clicks.\n",
              "      quickchartButtonEl.classList.add('colab-df-spinner');\n",
              "      try {\n",
              "        const charts = await google.colab.kernel.invokeFunction(\n",
              "            'suggestCharts', [key], {});\n",
              "      } catch (error) {\n",
              "        console.error('Error during call to suggestCharts:', error);\n",
              "      }\n",
              "      quickchartButtonEl.classList.remove('colab-df-spinner');\n",
              "      quickchartButtonEl.classList.add('colab-df-quickchart-complete');\n",
              "    }\n",
              "    (() => {\n",
              "      let quickchartButtonEl =\n",
              "        document.querySelector('#df-1d834bcb-1e83-47f4-a1ce-79866e2207a6 button');\n",
              "      quickchartButtonEl.style.display =\n",
              "        google.colab.kernel.accessAllowed ? 'block' : 'none';\n",
              "    })();\n",
              "  </script>\n",
              "</div>\n",
              "\n",
              "  <div id=\"id_9189dd3a-e527-4859-a3a3-e4c423b15b30\">\n",
              "    <style>\n",
              "      .colab-df-generate {\n",
              "        background-color: #E8F0FE;\n",
              "        border: none;\n",
              "        border-radius: 50%;\n",
              "        cursor: pointer;\n",
              "        display: none;\n",
              "        fill: #1967D2;\n",
              "        height: 32px;\n",
              "        padding: 0 0 0 0;\n",
              "        width: 32px;\n",
              "      }\n",
              "\n",
              "      .colab-df-generate:hover {\n",
              "        background-color: #E2EBFA;\n",
              "        box-shadow: 0px 1px 2px rgba(60, 64, 67, 0.3), 0px 1px 3px 1px rgba(60, 64, 67, 0.15);\n",
              "        fill: #174EA6;\n",
              "      }\n",
              "\n",
              "      [theme=dark] .colab-df-generate {\n",
              "        background-color: #3B4455;\n",
              "        fill: #D2E3FC;\n",
              "      }\n",
              "\n",
              "      [theme=dark] .colab-df-generate:hover {\n",
              "        background-color: #434B5C;\n",
              "        box-shadow: 0px 1px 3px 1px rgba(0, 0, 0, 0.15);\n",
              "        filter: drop-shadow(0px 1px 2px rgba(0, 0, 0, 0.3));\n",
              "        fill: #FFFFFF;\n",
              "      }\n",
              "    </style>\n",
              "    <button class=\"colab-df-generate\" onclick=\"generateWithVariable('df')\"\n",
              "            title=\"Generate code using this dataframe.\"\n",
              "            style=\"display:none;\">\n",
              "\n",
              "  <svg xmlns=\"http://www.w3.org/2000/svg\" height=\"24px\"viewBox=\"0 0 24 24\"\n",
              "       width=\"24px\">\n",
              "    <path d=\"M7,19H8.4L18.45,9,17,7.55,7,17.6ZM5,21V16.75L18.45,3.32a2,2,0,0,1,2.83,0l1.4,1.43a1.91,1.91,0,0,1,.58,1.4,1.91,1.91,0,0,1-.58,1.4L9.25,21ZM18.45,9,17,7.55Zm-12,3A5.31,5.31,0,0,0,4.9,8.1,5.31,5.31,0,0,0,1,6.5,5.31,5.31,0,0,0,4.9,4.9,5.31,5.31,0,0,0,6.5,1,5.31,5.31,0,0,0,8.1,4.9,5.31,5.31,0,0,0,12,6.5,5.46,5.46,0,0,0,6.5,12Z\"/>\n",
              "  </svg>\n",
              "    </button>\n",
              "    <script>\n",
              "      (() => {\n",
              "      const buttonEl =\n",
              "        document.querySelector('#id_9189dd3a-e527-4859-a3a3-e4c423b15b30 button.colab-df-generate');\n",
              "      buttonEl.style.display =\n",
              "        google.colab.kernel.accessAllowed ? 'block' : 'none';\n",
              "\n",
              "      buttonEl.onclick = () => {\n",
              "        google.colab.notebook.generateWithVariable('df');\n",
              "      }\n",
              "      })();\n",
              "    </script>\n",
              "  </div>\n",
              "\n",
              "    </div>\n",
              "  </div>\n"
            ],
            "application/vnd.google.colaboratory.intrinsic+json": {
              "type": "dataframe",
              "variable_name": "df",
              "summary": "{\n  \"name\": \"df\",\n  \"rows\": 200,\n  \"fields\": [\n    {\n      \"column\": \"Name\",\n      \"properties\": {\n        \"dtype\": \"string\",\n        \"num_unique_values\": 200,\n        \"samples\": [\n          \"Patricia Campos\",\n          \"Melissa Galvan\",\n          \"Michelle Perez\"\n        ],\n        \"semantic_type\": \"\",\n        \"description\": \"\"\n      }\n    },\n    {\n      \"column\": \"Age\",\n      \"properties\": {\n        \"dtype\": \"number\",\n        \"std\": 9,\n        \"min\": 22,\n        \"max\": 60,\n        \"num_unique_values\": 35,\n        \"samples\": [\n          22,\n          40,\n          38\n        ],\n        \"semantic_type\": \"\",\n        \"description\": \"\"\n      }\n    },\n    {\n      \"column\": \"Gender\",\n      \"properties\": {\n        \"dtype\": \"category\",\n        \"num_unique_values\": 2,\n        \"samples\": [\n          \"Female\",\n          \"Male\"\n        ],\n        \"semantic_type\": \"\",\n        \"description\": \"\"\n      }\n    },\n    {\n      \"column\": \"Projects Completed\",\n      \"properties\": {\n        \"dtype\": \"number\",\n        \"std\": 6,\n        \"min\": 0,\n        \"max\": 25,\n        \"num_unique_values\": 26,\n        \"samples\": [\n          7,\n          22\n        ],\n        \"semantic_type\": \"\",\n        \"description\": \"\"\n      }\n    },\n    {\n      \"column\": \"Productivity (%)\",\n      \"properties\": {\n        \"dtype\": \"number\",\n        \"std\": 28,\n        \"min\": 0,\n        \"max\": 98,\n        \"num_unique_values\": 82,\n        \"samples\": [\n          23,\n          57\n        ],\n        \"semantic_type\": \"\",\n        \"description\": \"\"\n      }\n    },\n    {\n      \"column\": \"Satisfaction Rate (%)\",\n      \"properties\": {\n        \"dtype\": \"number\",\n        \"std\": 28,\n        \"min\": 0,\n        \"max\": 100,\n        \"num_unique_values\": 94,\n        \"samples\": [\n          85,\n          26\n        ],\n        \"semantic_type\": \"\",\n        \"description\": \"\"\n      }\n    },\n    {\n      \"column\": \"Feedback Score\",\n      \"properties\": {\n        \"dtype\": \"number\",\n        \"std\": 1.1232629246930343,\n        \"min\": 1.0,\n        \"max\": 4.9,\n        \"num_unique_values\": 40,\n        \"samples\": [\n          4.9,\n          2.0\n        ],\n        \"semantic_type\": \"\",\n        \"description\": \"\"\n      }\n    },\n    {\n      \"column\": \"Department\",\n      \"properties\": {\n        \"dtype\": \"category\",\n        \"num_unique_values\": 5,\n        \"samples\": [\n          \"IT\",\n          \"Finance\"\n        ],\n        \"semantic_type\": \"\",\n        \"description\": \"\"\n      }\n    },\n    {\n      \"column\": \"Position\",\n      \"properties\": {\n        \"dtype\": \"category\",\n        \"num_unique_values\": 6,\n        \"samples\": [\n          \"Analyst\",\n          \"Manager\"\n        ],\n        \"semantic_type\": \"\",\n        \"description\": \"\"\n      }\n    },\n    {\n      \"column\": \"Joining Date\",\n      \"properties\": {\n        \"dtype\": \"category\",\n        \"num_unique_values\": 25,\n        \"samples\": [\n          \"Jan-04\",\n          \"Jan-14\"\n        ],\n        \"semantic_type\": \"\",\n        \"description\": \"\"\n      }\n    },\n    {\n      \"column\": \"Salary\",\n      \"properties\": {\n        \"dtype\": \"number\",\n        \"std\": 27082,\n        \"min\": 30231,\n        \"max\": 119895,\n        \"num_unique_values\": 198,\n        \"samples\": [\n          47255,\n          110104\n        ],\n        \"semantic_type\": \"\",\n        \"description\": \"\"\n      }\n    }\n  ]\n}"
            }
          },
          "metadata": {},
          "execution_count": 13
        }
      ]
    },
    {
      "cell_type": "code",
      "source": [
        "descriptive_stats = df.describe()\n",
        "print(descriptive_stats)"
      ],
      "metadata": {
        "colab": {
          "base_uri": "https://localhost:8080/"
        },
        "id": "OGZ3caFSBnuO",
        "outputId": "10d34656-ed4e-4a50-af46-6b2443bad5b5"
      },
      "execution_count": 15,
      "outputs": [
        {
          "output_type": "stream",
          "name": "stdout",
          "text": [
            "              Age  Projects Completed  Productivity (%)  \\\n",
            "count  200.000000          200.000000        200.000000   \n",
            "mean    34.650000           11.455000         46.755000   \n",
            "std      9.797318            6.408849         28.530068   \n",
            "min     22.000000            0.000000          0.000000   \n",
            "25%     26.000000            6.000000         23.000000   \n",
            "50%     32.000000           11.000000         45.000000   \n",
            "75%     41.000000           17.000000         70.000000   \n",
            "max     60.000000           25.000000         98.000000   \n",
            "\n",
            "       Satisfaction Rate (%)  Feedback Score         Salary  \n",
            "count             200.000000      200.000000     200.000000  \n",
            "mean               49.935000        2.883000   76619.245000  \n",
            "std                28.934353        1.123263   27082.299202  \n",
            "min                 0.000000        1.000000   30231.000000  \n",
            "25%                25.750000        1.900000   53080.500000  \n",
            "50%                50.500000        2.800000   80540.000000  \n",
            "75%                75.250000        3.900000  101108.250000  \n",
            "max               100.000000        4.900000  119895.000000  \n"
          ]
        }
      ]
    },
    {
      "cell_type": "markdown",
      "source": [
        "Edad (Age): La edad promedio de los empleados es aproximadamente 34.65 años, con una desviación estándar de aproximadamente 9.80 años. El rango de edad va desde 22 hasta 60 años.\n",
        "\n",
        "Proyectos Completados (Projects Completed): El número promedio es aproximadamente 11.46, con una desviación estándar de aproximadamente 6.41. El número mínimo de proyectos completados es 0, mientras que el máximo es 25.\n",
        "\n",
        "Productividad (%): La productividad promedio es aproximadamente 46.76%, con una desviación estándar de aproximadamente 28.53%. La productividad mínima es 0%, y la máxima es 98%.\n",
        "\n",
        "Tasa de Satisfacción (%): La tasa de satisfacción promedio es aproximadamente 49.94%, con una desviación estándar de aproximadamente 28.93%. La tasa de satisfacción varía desde 0% hasta 100%.\n",
        "\n",
        "Puntuación de Retroalimentación (Feedback Score): La puntuación promedio de retroalimentación es aproximadamente 2.88, con una desviación estándar de aproximadamente 1.12. La puntuación mínima es 1, y la máxima es 4.9.\n",
        "\n",
        "Salario (Salary): El salario promedio de los empleados es de aproximadamente 76619.25 unidades monetarias, con una desviación estándar de aproximadamente 27082.30. El salario mínimo es 30231 unidades monetarias, mientras que el máximo es 119895 unidades monetarias."
      ],
      "metadata": {
        "id": "u7hDA58qBzBr"
      }
    },
    {
      "cell_type": "markdown",
      "source": [
        "* Posibles Hipótesis:\n",
        "\n",
        "La edad está relacionada con la productividad y la tasa de satisfacción: Es posible que los empleados más jóvenes o más viejos tengan diferentes niveles de productividad y satisfacción en comparación con los empleados de mediana edad.\n",
        "\n",
        "La cantidad de proyectos completados está relacionada con el salario: Es posible que los empleados que completen más proyectos reciban salarios más altos debido a su mayor contribución al éxito de la empresa.\n",
        "\n",
        "La retroalimentación de los empleados está relacionada con su posición en la empresa: Es posible que los empleados en posiciones de liderazgo proporcionen una retroalimentación diferente en comparación con los empleados en roles de nivel inicial.\n",
        "\n",
        "* Objetivos Potenciales:\n",
        "\n",
        "Identificar factores que influyen en la productividad y satisfacción de los empleados: Analizar cómo variables como la edad, género, departamento, posición y salario afectan la productividad y satisfacción de los empleados.\n",
        "\n",
        "Explorar patrones en la retroalimentación de los empleados: Investigar si hay algún patrón en la retroalimentación proporcionada por los empleados y cómo esta podría variar según la posición en la empresa.\n",
        "\n",
        "Predecir el rendimiento laboral: Utilizar técnicas de modelado predictivo para predecir la productividad y la satisfacción de los empleados en función de sus características personales y laborales."
      ],
      "metadata": {
        "id": "cllmpMVlCusB"
      }
    },
    {
      "cell_type": "markdown",
      "source": [
        "<a id=\"1\"></a>\n",
        "# <div style=\"padding:20px;color:white;margin:0;font-size:35px;font-family:Verdana;text-align:center;display:fill;border-radius:5px;background-color:#254E58;overflow:hidden\"><b>EDA (Exploratory Data Analysis) 📊</b></div>"
      ],
      "metadata": {
        "id": "Ic4rbj9WEz1E"
      }
    },
    {
      "cell_type": "code",
      "source": [
        "import matplotlib.pyplot as plt\n",
        "\n",
        "# Crear el histograma\n",
        "plt.figure(figsize=(10, 6))\n",
        "plt.hist(df['Age'], bins=20, color='skyblue', edgecolor='black')\n",
        "\n",
        "# Personalizar el gráfico\n",
        "plt.title('Distribución de la Edad de los Empleados')\n",
        "plt.xlabel('Edad')\n",
        "plt.ylabel('Frecuencia')\n",
        "plt.grid(True)\n",
        "\n",
        "# Mostrar el gráfico\n",
        "plt.show()"
      ],
      "metadata": {
        "colab": {
          "base_uri": "https://localhost:8080/",
          "height": 565
        },
        "id": "q61m3cMlC_Ut",
        "outputId": "a931874c-f242-41dc-a3e9-41ce24d7ce78"
      },
      "execution_count": 16,
      "outputs": [
        {
          "output_type": "display_data",
          "data": {
            "text/plain": [
              "<Figure size 1000x600 with 1 Axes>"
            ],
            "image/png": "[encoded data removed]"
          },
          "metadata": {}
        }
      ]
    },
    {
      "cell_type": "code",
      "source": [
        "# Crear el diagrama de dispersión\n",
        "plt.figure(figsize=(10, 6))\n",
        "plt.scatter(df['Age'], df['Productivity (%)'], color='orange')\n",
        "\n",
        "# Personalizar el gráfico\n",
        "plt.title('Relación entre Productividad y Edad de los Empleados')\n",
        "plt.xlabel('Edad')\n",
        "plt.ylabel('Productividad (%)')\n",
        "plt.grid(True)\n",
        "\n",
        "# Mostrar el gráfico\n",
        "plt.show()"
      ],
      "metadata": {
        "colab": {
          "base_uri": "https://localhost:8080/",
          "height": 565
        },
        "id": "YhBbSjKwDH8F",
        "outputId": "8a6bef96-c538-4361-f692-bec7ab7e023b"
      },
      "execution_count": 17,
      "outputs": [
        {
          "output_type": "display_data",
          "data": {
            "text/plain": [
              "<Figure size 1000x600 with 1 Axes>"
            ],
            "image/png": "[encoded data removed]"
          },
          "metadata": {}
        }
      ]
    },
    {
      "cell_type": "code",
      "source": [
        "import seaborn as sns\n",
        "\n",
        "# Configurar el estilo de los gráficos\n",
        "sns.set_style(\"whitegrid\")\n",
        "\n",
        "# Crear el gráfico de caja\n",
        "plt.figure(figsize=(12, 6))\n",
        "sns.boxplot(data=df, x='Department', y='Salary', palette='viridis')\n",
        "\n",
        "# Personalizar el gráfico\n",
        "plt.title('Distribución del Salario por Departamento')\n",
        "plt.xlabel('Departamento')\n",
        "plt.ylabel('Salario')\n",
        "plt.xticks(rotation=45)\n",
        "\n",
        "# Ajustar el diseño para evitar solapamientos\n",
        "plt.tight_layout()\n",
        "\n",
        "# Mostrar el gráfico\n",
        "plt.show()"
      ],
      "metadata": {
        "colab": {
          "base_uri": "https://localhost:8080/",
          "height": 699
        },
        "id": "6LrHa4O1D0bb",
        "outputId": "57f6f7e4-5e84-4167-db1e-3ac3d165e586"
      },
      "execution_count": 21,
      "outputs": [
        {
          "output_type": "stream",
          "name": "stderr",
          "text": [
            "<ipython-input-21-27b48cd8b3c1>:8: FutureWarning: \n",
            "\n",
            "Passing `palette` without assigning `hue` is deprecated and will be removed in v0.14.0. Assign the `x` variable to `hue` and set `legend=False` for the same effect.\n",
            "\n",
            "  sns.boxplot(data=df, x='Department', y='Salary', palette='viridis')\n"
          ]
        },
        {
          "output_type": "display_data",
          "data": {
            "text/plain": [
              "<Figure size 1200x600 with 1 Axes>"
            ],
            "image/png": "[encoded data removed]"
          },
          "metadata": {}
        }
      ]
    },
    {
      "cell_type": "code",
      "source": [
        "# Configurar el estilo de los gráficos\n",
        "sns.set_style(\"whitegrid\")\n",
        "\n",
        "# Crear el gráfico de barras\n",
        "plt.figure(figsize=(8, 6))\n",
        "sns.barplot(data=df, x='Gender', y='Satisfaction Rate (%)', palette='pastel')\n",
        "\n",
        "# Personalizar el gráfico\n",
        "plt.title('Tasa de Satisfacción por Género')\n",
        "plt.xlabel('Género')\n",
        "plt.ylabel('Tasa de Satisfacción (%)')\n",
        "\n",
        "# Mostrar el gráfico\n",
        "plt.show()"
      ],
      "metadata": {
        "colab": {
          "base_uri": "https://localhost:8080/",
          "height": 657
        },
        "id": "3HS-t7UxEPSu",
        "outputId": "74f58d5c-8bd1-4775-a8d3-dcde5ff3754d"
      },
      "execution_count": 22,
      "outputs": [
        {
          "output_type": "stream",
          "name": "stderr",
          "text": [
            "<ipython-input-22-0c4e616ab9fb>:6: FutureWarning: \n",
            "\n",
            "Passing `palette` without assigning `hue` is deprecated and will be removed in v0.14.0. Assign the `x` variable to `hue` and set `legend=False` for the same effect.\n",
            "\n",
            "  sns.barplot(data=df, x='Gender', y='Satisfaction Rate (%)', palette='pastel')\n"
          ]
        },
        {
          "output_type": "display_data",
          "data": {
            "text/plain": [
              "<Figure size 800x600 with 1 Axes>"
            ],
            "image/png": "[encoded data removed]"
          },
          "metadata": {}
        }
      ]
    },
    {
      "cell_type": "code",
      "source": [
        "# Configurar el estilo de los gráficos\n",
        "sns.set_style(\"whitegrid\")\n",
        "\n",
        "# Crear el gráfico de caja\n",
        "plt.figure(figsize=(12, 6))\n",
        "sns.boxplot(data=df, x='Position', y='Feedback Score', palette='muted')\n",
        "\n",
        "# Personalizar el gráfico\n",
        "plt.title('Distribución de la Puntuación de Retroalimentación por Posición')\n",
        "plt.xlabel('Posición')\n",
        "plt.ylabel('Puntuación de Retroalimentación')\n",
        "\n",
        "# Rotar las etiquetas del eje x para mayor claridad\n",
        "plt.xticks(rotation=45)\n",
        "\n",
        "# Ajustar el diseño para evitar solapamientos\n",
        "plt.tight_layout()\n",
        "\n",
        "# Mostrar el gráfico\n",
        "plt.show()"
      ],
      "metadata": {
        "colab": {
          "base_uri": "https://localhost:8080/",
          "height": 699
        },
        "id": "FMwbzDOeEcYh",
        "outputId": "ab0ad195-64d0-4e4f-bd00-1aab4ee7bbb3"
      },
      "execution_count": 24,
      "outputs": [
        {
          "output_type": "stream",
          "name": "stderr",
          "text": [
            "<ipython-input-24-de99ce157e1a>:6: FutureWarning: \n",
            "\n",
            "Passing `palette` without assigning `hue` is deprecated and will be removed in v0.14.0. Assign the `x` variable to `hue` and set `legend=False` for the same effect.\n",
            "\n",
            "  sns.boxplot(data=df, x='Position', y='Feedback Score', palette='muted')\n"
          ]
        },
        {
          "output_type": "display_data",
          "data": {
            "text/plain": [
              "<Figure size 1200x600 with 1 Axes>"
            ],
            "image/png": "[encoded data removed]"
          },
          "metadata": {}
        }
      ]
    }
  ]
}